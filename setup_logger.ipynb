{
 "cells": [
  {
   "cell_type": "code",
   "execution_count": null,
   "id": "35124b04",
   "metadata": {},
   "outputs": [],
   "source": [
    "# with GELF\n",
    "#  pip install pygelf \n",
    "from pygelf import GelfUdpHandler\n",
    "import logging\n",
    "\n",
    "logging.basicConfig(level=logging.INFO)\n",
    "logger = logging.getLogger()\n",
    "logger.addHandler(GelfUdpHandler(host='127.0.0.1', port=12201))\n",
    "logger.info(\"HI\")"
   ]
  },
  {
   "cell_type": "code",
   "execution_count": null,
   "id": "b3316a9e",
   "metadata": {},
   "outputs": [
    {
     "data": {
      "text/plain": [
       "<function logging.setLoggerClass(klass)>"
      ]
     },
     "execution_count": 20,
     "metadata": {},
     "output_type": "execute_result"
    }
   ],
   "source": [
    "# pip install seqlog\n",
    "import seqlog\n",
    "\n",
    "\n",
    "def get_seq_logger():\n",
    "    import json\n",
    "    import seqlog\n",
    "\n",
    "    seqlog.log_to_seq(\n",
    "        server_url=\"http://localhost:5341/\",\n",
    "        api_key=\"fJjsYRGH6f65Od8msDHc\",\n",
    "        level=logging.INFO,\n",
    "        batch_size=1,\n",
    "        auto_flush_timeout=10,  # seconds\n",
    "        override_root_logger=True,\n",
    "        json_encoder_class=json.encoder.JSONEncoder,  # Optional; only specify this if you want to use a custom JSON encoder\n",
    "        support_extra_properties=True,  # Optional; only specify this if you want to pass additional log record properties via the \"extra\" argument.\n",
    "    )\n",
    "\n",
    "    return logging\n"
   ]
  },
  {
   "cell_type": "code",
   "execution_count": 19,
   "id": "974c4c32",
   "metadata": {},
   "outputs": [],
   "source": [
    "looog = get_seq_logger()\n",
    "# looog.info(\"Hi\")\n",
    "# looog.error(\"Error\")\n",
    "\n",
    "looog.info(\"Hello!\", name=\"World\")"
   ]
  }
 ],
 "metadata": {
  "kernelspec": {
   "display_name": "myenv",
   "language": "python",
   "name": "python3"
  },
  "language_info": {
   "codemirror_mode": {
    "name": "ipython",
    "version": 3
   },
   "file_extension": ".py",
   "mimetype": "text/x-python",
   "name": "python",
   "nbconvert_exporter": "python",
   "pygments_lexer": "ipython3",
   "version": "3.12.6"
  }
 },
 "nbformat": 4,
 "nbformat_minor": 5
}
