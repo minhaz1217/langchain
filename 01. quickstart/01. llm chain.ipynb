{
 "cells": [
  {
   "cell_type": "code",
   "execution_count": 2,
   "metadata": {},
   "outputs": [
    {
     "name": "stderr",
     "output_type": "stream",
     "text": [
      "C:\\Users\\HA HA\\AppData\\Local\\Temp\\ipykernel_25136\\706940382.py:2: LangChainDeprecationWarning: The class `Ollama` was deprecated in LangChain 0.3.1 and will be removed in 1.0.0. An updated version of the class exists in the :class:`~langchain-ollama package and should be used instead. To use it run `pip install -U :class:`~langchain-ollama` and import as `from :class:`~langchain_ollama import OllamaLLM``.\n",
      "  llm = Ollama(model=\"llama3\")\n"
     ]
    }
   ],
   "source": [
    "from langchain_community.llms import Ollama\n",
    "llm = Ollama(model=\"llama3\")"
   ]
  },
  {
   "cell_type": "code",
   "execution_count": 2,
   "metadata": {},
   "outputs": [
    {
     "data": {
      "text/plain": [
       "\"Language models like Langsmith can be incredibly helpful in various aspects of testing, including:\\n\\n1. **Natural Language Processing (NLP) testing**: Langsmith's capabilities in understanding natural language can aid in testing NLP-based applications, such as text classification, sentiment analysis, and machine translation.\\n2. **Test case generation**: By analyzing a specific task or problem, Langsmith can generate test cases that cover various scenarios, edge cases, and boundary conditions, making it easier to create comprehensive tests.\\n3. **Automated testing**: Langsmith's ability to understand and generate text can be used to automate testing by creating input data for automated testing tools like Selenium or Cypress.\\n4. **Test data creation**: Langsmith can help generate realistic test data in various formats (e.g., JSON, CSV) for testing APIs, databases, or other systems that require diverse data sets.\\n5. **Error detection and localization**: By analyzing the language used in errors or exceptions, Langsmith can aid in detecting and localizing issues in software applications, making it easier to identify and fix problems.\\n6. **Test report generation**: Langsmith's text generation capabilities can be used to automatically generate test reports, including summaries of test results, error messages, and debugging information.\\n7. **API testing**: Langsmith can help test APIs by generating requests with specific parameters, headers, or query strings, allowing for more comprehensive API testing.\\n8. **Localization testing**: By analyzing text in different languages and cultures, Langsmith can aid in testing software applications for localization issues, ensuring that they function correctly across various regions.\\n\\nBy leveraging these capabilities, Langsmith can significantly enhance the efficiency and effectiveness of your testing process, helping you deliver higher-quality software products more quickly.\""
      ]
     },
     "execution_count": 2,
     "metadata": {},
     "output_type": "execute_result"
    }
   ],
   "source": [
    "llm.invoke(\"how can langsmith help with testing?\")"
   ]
  },
  {
   "cell_type": "code",
   "execution_count": 3,
   "metadata": {},
   "outputs": [],
   "source": [
    "from langchain_core.prompts import ChatPromptTemplate\n",
    "prompt = ChatPromptTemplate.from_messages([\n",
    "    (\"system\", \"You are a world class technical documentation writer.\"),\n",
    "    (\"user\", \"{input}\")\n",
    "])"
   ]
  },
  {
   "cell_type": "code",
   "execution_count": 4,
   "metadata": {},
   "outputs": [],
   "source": [
    "chain = prompt | llm "
   ]
  },
  {
   "cell_type": "code",
   "execution_count": 5,
   "metadata": {},
   "outputs": [
    {
     "data": {
      "text/plain": [
       "\"As a technical documentation writer, I've had the pleasure of working with Langsmith to streamline our content creation process and improve collaboration with developers.\\n\\nWhen it comes to testing, Langsmith can be incredibly helpful in several ways:\\n\\n1. **Automated Testing**: Langsmith's AI-powered technology can automatically test your documentation against various parameters such as syntax, formatting, and consistency. This ensures that your documentation is error-free, well-structured, and easy to read.\\n2. **Code Snippet Validation**: Langsmith can analyze code snippets within your documentation to ensure they're correct, up-to-date, and properly formatted. This helps prevent errors and inconsistencies in your examples.\\n3. **Content Analysis**: Langsmith's AI can analyze the content of your documentation to identify areas that may require improvement, such as unclear or outdated information. This helps you refine your documentation and provide a better user experience.\\n4. **API Documentation Testing**: If you're working with APIs, Langsmith can test your API documentation for completeness, accuracy, and consistency. This ensures that your API documentation is helpful to developers and easy to understand.\\n\\nBy leveraging Langsmith's capabilities, you can significantly reduce the time and effort required for testing and validation of your technical documentation. This allows you to focus on creating high-quality content that meets the needs of your audience.\\n\\nHow can I help you specifically? Do you have any specific testing challenges or areas where you'd like to improve your documentation process?\""
      ]
     },
     "execution_count": 5,
     "metadata": {},
     "output_type": "execute_result"
    }
   ],
   "source": [
    "chain.invoke({\"input\": \"how can langsmith help with testing?\"})"
   ]
  },
  {
   "cell_type": "code",
   "execution_count": 6,
   "metadata": {},
   "outputs": [],
   "source": [
    "from langchain_core.output_parsers import StrOutputParser\n",
    "\n",
    "output_parser = StrOutputParser()"
   ]
  },
  {
   "cell_type": "code",
   "execution_count": 7,
   "metadata": {},
   "outputs": [],
   "source": [
    "chain = prompt | llm | output_parser"
   ]
  },
  {
   "cell_type": "code",
   "execution_count": 8,
   "metadata": {},
   "outputs": [],
   "source": [
    "chain.invoke({\"input\": \"how can langsmith help with testing?\"})"
   ]
  }
 ],
 "metadata": {
  "kernelspec": {
   "display_name": "myenv",
   "language": "python",
   "name": "python3"
  },
  "language_info": {
   "codemirror_mode": {
    "name": "ipython",
    "version": 3
   },
   "file_extension": ".py",
   "mimetype": "text/x-python",
   "name": "python",
   "nbconvert_exporter": "python",
   "pygments_lexer": "ipython3",
   "version": "3.12.6"
  }
 },
 "nbformat": 4,
 "nbformat_minor": 2
}
