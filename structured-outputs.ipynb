{
 "cells": [
  {
   "cell_type": "code",
   "execution_count": 2,
   "id": "c0a97bcf",
   "metadata": {},
   "outputs": [
    {
     "name": "stdout",
     "output_type": "stream",
     "text": [
      "friends=[FriendInfo(name='Ollama', age=22, is_available=True), FriendInfo(name='Alonso', age=23, is_available=False)]\n"
     ]
    }
   ],
   "source": [
    "from pydantic import BaseModel\n",
    "\n",
    "from ollama import Client\n",
    "model = \"qwen2.5:0.5b\"\n",
    "# model = \"ollama3\"\n",
    "client = Client(host=\"http://localhost:11434\")\n",
    "\n",
    "\n",
    "# Define the schema for the response\n",
    "class FriendInfo(BaseModel):\n",
    "  name: str\n",
    "  age: int\n",
    "  is_available: bool\n",
    "\n",
    "\n",
    "class FriendList(BaseModel):\n",
    "  friends: list[FriendInfo]\n",
    "\n",
    "\n",
    "# schema = {'type': 'object', 'properties': {'friends': {'type': 'array', 'items': {'type': 'object', 'properties': {'name': {'type': 'string'}, 'age': {'type': 'integer'}, 'is_available': {'type': 'boolean'}}, 'required': ['name', 'age', 'is_available']}}}, 'required': ['friends']}\n",
    "response = client.chat(\n",
    "  model=model,\n",
    "  messages=[{'role': 'user', 'content': 'I have two friends. The first is Ollama 22 years old busy saving the world, and the second is Alonso 23 years old and wants to hang out. Return a list of friends in JSON format'}],\n",
    "  format=FriendList.model_json_schema(),  # Use Pydantic to generate the schema or format=schema\n",
    "  options={'temperature': 0},  # Make responses more deterministic\n",
    ")\n",
    "\n",
    "# Use Pydantic to validate the response\n",
    "friends_response = FriendList.model_validate_json(response.message.content)\n",
    "print(friends_response)"
   ]
  },
  {
   "cell_type": "code",
   "execution_count": 3,
   "id": "e7afeaee",
   "metadata": {},
   "outputs": [
    {
     "data": {
      "text/plain": [
       "{'$defs': {'FriendInfo': {'properties': {'name': {'title': 'Name',\n",
       "     'type': 'string'},\n",
       "    'age': {'title': 'Age', 'type': 'integer'},\n",
       "    'is_available': {'title': 'Is Available', 'type': 'boolean'}},\n",
       "   'required': ['name', 'age', 'is_available'],\n",
       "   'title': 'FriendInfo',\n",
       "   'type': 'object'}},\n",
       " 'properties': {'friends': {'items': {'$ref': '#/$defs/FriendInfo'},\n",
       "   'title': 'Friends',\n",
       "   'type': 'array'}},\n",
       " 'required': ['friends'],\n",
       " 'title': 'FriendList',\n",
       " 'type': 'object'}"
      ]
     },
     "execution_count": 3,
     "metadata": {},
     "output_type": "execute_result"
    }
   ],
   "source": [
    "FriendList.model_json_schema()"
   ]
  }
 ],
 "metadata": {
  "kernelspec": {
   "display_name": "myenv",
   "language": "python",
   "name": "python3"
  },
  "language_info": {
   "codemirror_mode": {
    "name": "ipython",
    "version": 3
   },
   "file_extension": ".py",
   "mimetype": "text/x-python",
   "name": "python",
   "nbconvert_exporter": "python",
   "pygments_lexer": "ipython3",
   "version": "3.12.6"
  }
 },
 "nbformat": 4,
 "nbformat_minor": 5
}
