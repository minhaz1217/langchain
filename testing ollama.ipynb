{
 "cells": [
  {
   "cell_type": "code",
   "execution_count": 2,
   "metadata": {},
   "outputs": [
    {
     "data": {
      "text/plain": [
       "ProcessResponse(models=[Model(model='qwen2.5:0.5b', name='qwen2.5:0.5b', digest='a8b0c51577010a279d933d14c2a8ab4b268079d44c5c8830c0a93900f1827c67', expires_at=datetime.datetime(2025, 6, 7, 15, 34, 49, 674170, tzinfo=TzInfo(UTC)), size=1299800320, size_vram=1299800320, details=ModelDetails(parent_model='', format='gguf', family='qwen2', families=['qwen2'], parameter_size='494.03M', quantization_level='Q4_K_M'))])"
      ]
     },
     "execution_count": 2,
     "metadata": {},
     "output_type": "execute_result"
    }
   ],
   "source": [
    "from ollama import Client\n",
    "model = \"qwen2.5:0.5b\"\n",
    "# model = \"ollama3\"\n",
    "client = Client(host=\"http://localhost:11434\")\n",
    "\n",
    "client.ps()"
   ]
  },
  {
   "cell_type": "code",
   "execution_count": null,
   "metadata": {},
   "outputs": [],
   "source": [
    "embed = client.embed(input=[\"Embed this text\", \"hi\"], model=\"llama3\")"
   ]
  },
  {
   "cell_type": "code",
   "execution_count": 33,
   "metadata": {},
   "outputs": [],
   "source": [
    "x = [data for data in embed.embeddings]"
   ]
  },
  {
   "cell_type": "code",
   "execution_count": null,
   "metadata": {},
   "outputs": [
    {
     "data": {
      "text/plain": [
       "True"
      ]
     },
     "execution_count": 35,
     "metadata": {},
     "output_type": "execute_result"
    }
   ],
   "source": [
    "x"
   ]
  },
  {
   "cell_type": "code",
   "execution_count": 95,
   "metadata": {},
   "outputs": [],
   "source": [
    "\n",
    "import json\n",
    "\n",
    "schema  = {'single_item_type_query': 'True or False', 'item_queries': 'Separate queries for each of the kinds of items, separated by commas'}\n",
    "\n",
    "system_prompt = f\"\"\"You are a helpful assistant that always provides responses in JSON format.\n",
    "Your response must be valid JSON that matches this schema: {json.dumps(schema)}\n",
    "Only output the JSON object, no additional text or explanation.\"\"\"\n",
    "\n",
    "query = \"give me a item with microsoft\"\n",
    "prompt = f\"\"\"\n",
    "        Is the user asking for only one kind of item or are they asking for multiple kinds of items.\n",
    "        If they are asking for multiple kinds of items, construct indepenent queries for each of the \n",
    "        kinds of items, separated by semicolons. The user's query is: {query}.\n",
    "\"\"\"\n"
   ]
  },
  {
   "cell_type": "code",
   "execution_count": 97,
   "metadata": {},
   "outputs": [
    {
     "name": "stdout",
     "output_type": "stream",
     "text": [
      "{'single_item_type_query': 'True or False', 'item_queries': 'Separate queries for each of the kinds of items, separated by commas'}\n"
     ]
    },
    {
     "data": {
      "text/plain": [
       "ChatResponse(model='qwen2.5:0.5b', created_at='2025-06-07T17:14:34.95513014Z', done=True, done_reason='stop', total_duration=786489276, load_duration=311704799, prompt_eval_count=146, prompt_eval_duration=11299594, eval_count=21, eval_duration=455895850, message=Message(role='assistant', content='{\\n  \"single_item_type_query\": \"False\",\\n  \"item_queries\": \"Microsoft\"\\n}', thinking=None, images=None, tool_calls=None))"
      ]
     },
     "execution_count": 97,
     "metadata": {},
     "output_type": "execute_result"
    }
   ],
   "source": [
    "\n",
    "# system_prompt = \"You are a helpful assistant\"\n",
    "# prompt = \"hi what is your name?\"\n",
    "print(schema)\n",
    "response = client.chat(\n",
    "    messages=[\n",
    "        {\"role\": \"system\", \"content\": system_prompt},\n",
    "        {\"role\": \"user\", \"content\": prompt},\n",
    "    ],\n",
    "    model=model,\n",
    "    options={\n",
    "        \"temperature\": .7,\n",
    "    },\n",
    "    format=\"json\"\n",
    ")\n",
    "\n",
    "response"
   ]
  },
  {
   "cell_type": "code",
   "execution_count": 91,
   "metadata": {},
   "outputs": [
    {
     "data": {
      "text/plain": [
       "'{\"single_item_type_query\": \"True or False\", \"item_queries\": \"Separate queries for each of the kinds of items, separated by commas\"}'"
      ]
     },
     "execution_count": 91,
     "metadata": {},
     "output_type": "execute_result"
    }
   ],
   "source": [
    "json.dumps(schema)"
   ]
  },
  {
   "cell_type": "code",
   "execution_count": null,
   "metadata": {},
   "outputs": [
    {
     "ename": "SyntaxError",
     "evalue": "Forward reference must be an expression -- got 'Separate queries for each of the kinds of items, separated by commas' (<string>)",
     "output_type": "error",
     "traceback": [
      "Traceback \u001b[36m(most recent call last)\u001b[39m:\n",
      "\u001b[36m  \u001b[39m\u001b[36mFile \u001b[39m\u001b[32mC:\\Python312\\Lib\\typing.py:904\u001b[39m\u001b[36m in \u001b[39m\u001b[35m__init__\u001b[39m\n\u001b[31m    \u001b[39m\u001b[31mcode = compile(arg_to_compile, '<string>', 'eval')\u001b[39m\n",
      "  \u001b[36mFile \u001b[39m\u001b[32m<string>:1\u001b[39m\n\u001b[31m    \u001b[39m\u001b[31mSeparate queries for each of the kinds of items, separated by commas\u001b[39m\n             ^\n\u001b[31mSyntaxError\u001b[39m\u001b[31m:\u001b[39m invalid syntax\n",
      "\nDuring handling of the above exception, another exception occurred:\n",
      "Traceback \u001b[36m(most recent call last)\u001b[39m:\n",
      "  File \u001b[92md:\\MyComputer\\website\\python\\langchain\\myenv\\Lib\\site-packages\\IPython\\core\\interactiveshell.py:3672\u001b[39m in \u001b[95mrun_code\u001b[39m\n    exec(code_obj, self.user_global_ns, self.user_ns)\n",
      "  Cell \u001b[92mIn[88]\u001b[39m\u001b[92m, line 4\u001b[39m\n    x = create_model('DynamicFoobarModel', **schema)\n",
      "  File \u001b[92md:\\MyComputer\\website\\python\\langchain\\myenv\\Lib\\site-packages\\pydantic\\main.py:1763\u001b[39m in \u001b[95mcreate_model\u001b[39m\n    return meta(\n",
      "  File \u001b[92md:\\MyComputer\\website\\python\\langchain\\myenv\\Lib\\site-packages\\pydantic\\_internal\\_model_construction.py:221\u001b[39m in \u001b[95m__new__\u001b[39m\n    set_model_fields(cls, config_wrapper=config_wrapper, ns_resolver=ns_resolver)\n",
      "  File \u001b[92md:\\MyComputer\\website\\python\\langchain\\myenv\\Lib\\site-packages\\pydantic\\_internal\\_model_construction.py:544\u001b[39m in \u001b[95mset_model_fields\u001b[39m\n    fields, class_vars = collect_model_fields(cls, config_wrapper, ns_resolver, typevars_map=typevars_map)\n",
      "  File \u001b[92md:\\MyComputer\\website\\python\\langchain\\myenv\\Lib\\site-packages\\pydantic\\_internal\\_fields.py:118\u001b[39m in \u001b[95mcollect_model_fields\u001b[39m\n    type_hints = _typing_extra.get_model_type_hints(cls, ns_resolver=ns_resolver)\n",
      "  File \u001b[92md:\\MyComputer\\website\\python\\langchain\\myenv\\Lib\\site-packages\\pydantic\\_internal\\_typing_extra.py:329\u001b[39m in \u001b[95mget_model_type_hints\u001b[39m\n    hints[name] = try_eval_type(value, globalns, localns)\n",
      "  File \u001b[92md:\\MyComputer\\website\\python\\langchain\\myenv\\Lib\\site-packages\\pydantic\\_internal\\_typing_extra.py:375\u001b[39m in \u001b[95mtry_eval_type\u001b[39m\n    value = _type_convert(value)\n",
      "  File \u001b[92md:\\MyComputer\\website\\python\\langchain\\myenv\\Lib\\site-packages\\pydantic\\_internal\\_typing_extra.py:288\u001b[39m in \u001b[95m_type_convert\u001b[39m\n    return _make_forward_ref(arg, is_argument=False, is_class=True)\n",
      "\u001b[36m  \u001b[39m\u001b[36mFile \u001b[39m\u001b[32mC:\\Python312\\Lib\\typing.py:906\u001b[39m\u001b[36m in \u001b[39m\u001b[35m__init__\u001b[39m\n\u001b[31m    \u001b[39m\u001b[31mraise SyntaxError(f\"Forward reference must be an expression -- got {arg!r}\")\u001b[39m\n",
      "  \u001b[36mFile \u001b[39m\u001b[32m<string>\u001b[39m\n\u001b[31mSyntaxError\u001b[39m\u001b[31m:\u001b[39m Forward reference must be an expression -- got 'Separate queries for each of the kinds of items, separated by commas'\n"
     ]
    }
   ],
   "source": [
    "from pydantic import BaseModel\n",
    "from pydantic import PydanticUserError, create_model\n",
    "\n",
    "x = create_model('DynamicFoobarModel', foo=str, bar=(int, 123))\n",
    "\n",
    "x.model_json_schema()"
   ]
  },
  {
   "cell_type": "code",
   "execution_count": null,
   "metadata": {},
   "outputs": [],
   "source": []
  }
 ],
 "metadata": {
  "kernelspec": {
   "display_name": "myenv",
   "language": "python",
   "name": "python3"
  },
  "language_info": {
   "codemirror_mode": {
    "name": "ipython",
    "version": 3
   },
   "file_extension": ".py",
   "mimetype": "text/x-python",
   "name": "python",
   "nbconvert_exporter": "python",
   "pygments_lexer": "ipython3",
   "version": "3.12.6"
  }
 },
 "nbformat": 4,
 "nbformat_minor": 2
}
